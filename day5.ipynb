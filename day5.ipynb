{
 "cells": [
  {
   "cell_type": "markdown",
   "metadata": {},
   "source": [
    "# Day 5: Supply II - Adding climate policies\n",
    "\n",
    "We will now include climate policies more comprehensively (taxes and subsidies, but subsidies need to be paid by consumers).\n",
    "\n",
    "The data and code are based on the paper \"The Efficiency and Sectoral Distributional Implications of Large-Scale Renewable Policies,\" by Mar Reguant."
   ]
  },
  {
   "cell_type": "markdown",
   "metadata": {},
   "source": [
    "We first load relevant libraries, same as last session."
   ]
  },
  {
   "cell_type": "code",
   "execution_count": 66,
   "metadata": {},
   "outputs": [
    {
     "name": "stderr",
     "output_type": "stream",
     "text": [
      "\u001b[32m\u001b[1m   Resolving\u001b[22m\u001b[39m package versions...\n",
      "\u001b[32m\u001b[1m  No Changes\u001b[22m\u001b[39m to `~/.julia/environments/v1.10/Project.toml`\n",
      "\u001b[32m\u001b[1m  No Changes\u001b[22m\u001b[39m to `~/.julia/environments/v1.10/Manifest.toml`\n"
     ]
    }
   ],
   "source": [
    "using Pkg\n",
    "Pkg.add([\"DataFrames\", \"CSV\", \"JuMP\", \"Ipopt\", \"Cbc\", \"HiGHS\",\"Plots\", \"Printf\"])"
   ]
  },
  {
   "cell_type": "code",
   "execution_count": 67,
   "metadata": {},
   "outputs": [],
   "source": [
    "using DataFrames\n",
    "using CSV\n",
    "using JuMP\n",
    "using Ipopt, Cbc, HiGHS\n",
    "using Plots\n",
    "using Printf"
   ]
  },
  {
   "cell_type": "markdown",
   "metadata": {},
   "source": [
    "Remember to set your path correctly:"
   ]
  },
  {
   "cell_type": "code",
   "execution_count": 68,
   "metadata": {},
   "outputs": [
    {
     "data": {
      "text/plain": [
       "\"/Users/marreguant/Dropbox/TEACHING/BSE/Electricity2025/day5/practicum/\""
      ]
     },
     "metadata": {},
     "output_type": "display_data"
    }
   ],
   "source": [
    "dirpath = \"/Users/marreguant/Dropbox/TEACHING/BSE/Electricity2025/day5/practicum/\""
   ]
  },
  {
   "cell_type": "markdown",
   "metadata": {},
   "source": [
    "## Building the model\n",
    "\n",
    "We load the same data as last week, and also clean it up to simplify it further and create the demand and import curves."
   ]
  },
  {
   "cell_type": "code",
   "execution_count": 69,
   "metadata": {},
   "outputs": [],
   "source": [
    "dfclust = CSV.read(string(dirpath,\"data_jaere_clustered.csv\"), DataFrame);\n",
    "\n",
    "# Re-scaling (we multiply by 8.76 to make it into a full year of hours (divided by 1000))\n",
    "dfclust.weights = 8.76 * dfclust.weights / sum(dfclust.weights);\n",
    "\n",
    "# Here only one demand type to make it easier\n",
    "dfclust.demand = dfclust.q_residential + dfclust.q_commercial + dfclust.q_industrial;\n",
    "\n",
    "# Calibrate demand based on elasticities (using 0.1 here as only one final demand)\n",
    "elas = [.1, .2, .5, .3];\n",
    "dfclust.b = elas[1] * dfclust.demand ./ dfclust.price;  # slope\n",
    "dfclust.a = dfclust.demand + dfclust.b .* dfclust.price;  # intercept\n",
    "\n",
    "# Calibrate imports (using elas 0.3)\n",
    "dfclust.bm = elas[4] * dfclust.imports ./ dfclust.price;  # slope\n",
    "dfclust.am = dfclust.imports - dfclust.bm .* dfclust.price;  # intercept"
   ]
  },
  {
   "cell_type": "markdown",
   "metadata": {},
   "source": [
    "The technology file now includes the fixed cost of building new power plants (technologies 3-5). Note that we added an additional row for new natural gas plants."
   ]
  },
  {
   "cell_type": "markdown",
   "metadata": {},
   "source": [
    "We will use an annualization factor to pro-rate the importance of fixed costs for one year."
   ]
  },
  {
   "cell_type": "code",
   "execution_count": 70,
   "metadata": {
    "scrolled": true
   },
   "outputs": [],
   "source": [
    "tech = CSV.read(string(dirpath,\"data_technology.csv\"), DataFrame);\n",
    "afactor = (1 - (1 / (1.05^20.0))) / 0.05;\n",
    "tech.F = tech.F ./afactor;"
   ]
  },
  {
   "cell_type": "markdown",
   "metadata": {},
   "source": [
    "## Adding taxes and subsides to the problem"
   ]
  },
  {
   "cell_type": "markdown",
   "metadata": {},
   "source": [
    "We modify our mixed integer code with an additional renewable subsidy and renewable charge that consumers need to pay."
   ]
  },
  {
   "cell_type": "code",
   "execution_count": null,
   "metadata": {},
   "outputs": [
    {
     "data": {
      "text/plain": [
       "clear_market_foc (generic function with 1 method)"
      ]
     },
     "metadata": {},
     "output_type": "display_data"
    }
   ],
   "source": [
    "## Clear market based on first-order conditions\n",
    "function clear_market_foc(data::DataFrame, tech::DataFrame; \n",
    "    ng_price = 3.5, tax=0.0, subsidy=0.0, renewable_charge=0.0)\n",
    "\n",
    "    # We declare a model\n",
    "    model = Model(\n",
    "        optimizer_with_attributes(\n",
    "            HiGHS.Optimizer, \"output_flag\" => false)\n",
    "        );\n",
    "\n",
    "    # Set useful indexes\n",
    "    I = nrow(tech);  # number of techs\n",
    "    T = nrow(data);  # number of periods\n",
    "    M = 1e4;\n",
    "\n",
    "    for i = 2:5\n",
    "        tech.c[i] = tech.heatrate[i] * ng_price;\n",
    "        tech.c2[i] = tech.heatrate2[i] * ng_price;\n",
    "    end\n",
    "\n",
    "    # Variables to solve for\n",
    "    @variable(model, price[1:T]);\n",
    "    @variable(model, demand[1:T]);\n",
    "    @variable(model, imports[1:T]);\n",
    "    @variable(model, quantity[1:T, 1:I] >= 0);\n",
    "    @variable(model, shadow[1:T, 1:I] >= 0);  # price wedge if at capacity\n",
    "    @variable(model, 0 <= K[5:I] <= 100.0);  # new capacity\n",
    "    @variable(model, profit[5:I]); # tech annual profits, at most zero in equilibrium\n",
    "    @variable(model, u1[1:T, 1:I], Bin);  # if tech used\n",
    "    @variable(model, u2[1:T, 1:I], Bin);  # if tech at max\n",
    "    @variable(model, u3[5:I], Bin);  # if tech is built\n",
    "\n",
    "    @objective(model, Min, sum(price[t] * data.weights[t] / T for t=1:T));\n",
    "\n",
    "    # Market clearing\n",
    "    @constraint(model, [t=1:T], \n",
    "        demand[t] == data.a[t] - data.b[t] * (price[t] + renewable_charge));\n",
    "    @constraint(model, [t=1:T], \n",
    "        imports[t] == data.am[t] + data.bm[t] * price[t]); #there are options for shifting imports like adding taxes.\n",
    "    @constraint(model, [t=1:T], \n",
    "        demand[t] == sum(quantity[t,i] for i=1:I) + imports[t]);\n",
    "\n",
    "    # Capacity constraints\n",
    "    @constraint(model, [t=1:T], \n",
    "        quantity[t,1] <= u1[t,1] * data.hydronuc[t]); #we can only use the technology if u1 = 1\n",
    "    @constraint(model, [t=1:T,i=2:4], \n",
    "        quantity[t,i] <= u1[t,i] * tech[i,\"capUB\"]);\n",
    "    @constraint(model, [t=1:T, i=5:I], \n",
    "        quantity[t,i] <= u1[t,i] * 100.0);\n",
    "    @constraint(model, [t=1:T], \n",
    "        quantity[t,5] <= K[5]);\n",
    "    @constraint(model, [t=1:T], \n",
    "        quantity[t,6] <= K[6] * data.wind_cap[t]);\n",
    "    @constraint(model, [t=1:T], \n",
    "        quantity[t,7] <= K[7] * data.solar_cap[t]);\n",
    "\n",
    "    @constraint(model, [t=1:T], \n",
    "        quantity[t,1] >= u2[t,1] * data.hydronuc[t]); #if u2 = u1 = 1, hydronuc <= q <= hydronuc\n",
    "    @constraint(model, [t=1:T,i=2:4], \n",
    "        quantity[t,i] >= u2[t,i] * tech[i,\"capUB\"]);\n",
    "    @constraint(model, [t=1:T], \n",
    "        quantity[t,5] >= K[5] - M * (1.0-u2[t,5]));\n",
    "    @constraint(model, [t=1:T], \n",
    "        quantity[t,6] >= K[6] * data.wind_cap[t] - M * (1.0-u2[t,6]));\n",
    "    @constraint(model, [t=1:T], \n",
    "        quantity[t,7] >= K[7] * data.solar_cap[t] - M * (1.0-u2[t,7]));\n",
    "\n",
    "    @constraint(model, [t=1:T,i=1:I], u1[t,i] >= u2[t,i]);\n",
    "\n",
    "    # Constraints on optimality\n",
    "    @constraint(model, [t=1:T,i=1:I],\n",
    "        price[t] - tech.c[i] - tech.c2[i]*quantity[t,i] - tax * tech.e[i] + subsidy * tech.renewable[i] - shadow[t,i] \n",
    "        >= -M * (1.0-u1[t,i])); #the subsidy is increasing the shadow value renowable firms are getting. Leading to higher renewable entry\n",
    "    @constraint(model, [t=1:T,i=1:I],\n",
    "        price[t] - tech.c[i] - tech.c2[i]*quantity[t,i] - tax * tech.e[i] + subsidy * tech.renewable[i] - shadow[t,i] \n",
    "        <= 0.0);\n",
    "    @constraint(model, [t=1:T,i=1:I], shadow[t,i] <= M*u2[t,i]);\n",
    "\n",
    "    # Definition of profit\n",
    "    @constraint(model, profit[5] == \n",
    "                        sum(data.weights[t]*shadow[t,5] for t=1:T) - tech.F[5]);\n",
    "    @constraint(model, profit[6] == \n",
    "                        sum(data.weights[t]*shadow[t,6]*data.wind_cap[t] for t=1:T) - tech.F[6]);\n",
    "    @constraint(model, profit[7] == \n",
    "                        sum(data.weights[t]*shadow[t,7]*data.solar_cap[t] for t=1:T) - tech.F[7]);\n",
    "\n",
    "    # Constraints on investment \n",
    "    @constraint(model, [i=5:I], profit[i] <= 0.0); # zero profits if investing\n",
    "    @constraint(model, [i=5:I], profit[i] >= -M*(1.0-u3[i])); # zero profits if investing\n",
    "    @constraint(model, [i=5:I], K[i] <= M*u3[i]); # capacity only positive if firms can make zero profit\n",
    "\n",
    "    # Solve model\n",
    "    optimize!(model);\n",
    "\n",
    "    status = @sprintf(\"%s\", JuMP.termination_status(model));\n",
    "\n",
    "    if (status==\"OPTIMAL\")\n",
    "        p = JuMP.value.(price);\n",
    "        avg_price = sum(p[t] * data.weights[t]/sum(data.weights) for t=1:T);\t\t\n",
    "        q = JuMP.value.(quantity);\n",
    "        imp = JuMP.value.(imports);\n",
    "        d = JuMP.value.(demand);\n",
    "        cost = sum(data.weights[t] * (sum(tech.c[i] * q[t,i] + tech.c2[i] * q[t,i]^2 / 2 for i=1:I) + (imp[t] - data.am[t])^2/(2 * data.bm[t])) for t=1:T);\n",
    "        subsidy_cost = sum(data.weights[t] * sum(subsidy * q[t,i] for i=6:7) for t=1:T);\n",
    "        results = Dict(\"status\" => @sprintf(\"%s\",JuMP.termination_status(model)),\n",
    "            \"avg_price\" => avg_price,\n",
    "            \"cons_price\" => avg_price + renewable_charge,\n",
    "            \"price\" => p,\n",
    "            \"quantity\" => q,\n",
    "            \"imports\" => imp,\n",
    "            \"demand\" => d,\n",
    "            \"shadow\" => JuMP.value.(shadow),\n",
    "            \"profit\" => JuMP.value.(profit),\n",
    "            \"u1\" => JuMP.value.(u1),\n",
    "            \"u2\" => JuMP.value.(u2),\n",
    "            \"u3\" => JuMP.value.(u3),\n",
    "            \"gas_gw\" => JuMP.value.(K[5]),\n",
    "            \"wind_gw\" => JuMP.value.(K[6]),\n",
    "            \"solar_gw\" => JuMP.value.(K[7]),            \n",
    "            \"emissions\" => sum(data.weights[t] * sum(tech.e[i] * q[t,i] for i=1:I) for t=1:T),\n",
    "            \"subsidy_cost\" => subsidy_cost,\n",
    "            \"needed_charge\" => (subsidy_cost/sum(data.weights[t] * d[t] for t=1:T)),\n",
    "            \"wind_curtailment\" => 1.0-sum(data.weights[t]*q[t,6]/(JuMP.value.(K[6])+0.0001) for t=1:T)/sum(data.weights[t]*data.wind_cap[t] for t=1:T),\n",
    "            \"solar_curtailment\" => 1.0-sum(data.weights[t]*q[t,7]/(JuMP.value.(K[7])+0.0001) for t=1:T)/sum(data.weights[t]*data.solar_cap[t] for t=1:T));\n",
    "        return results\n",
    "    else\n",
    "        results = Dict(\"status\" => @sprintf(\"%s\",JuMP.termination_status(model)));\n",
    "        return results\n",
    "    end\n",
    "\n",
    "end"
   ]
  },
  {
   "cell_type": "code",
   "execution_count": 72,
   "metadata": {},
   "outputs": [
    {
     "data": {
      "text/plain": [
       "Dict{String, Any} with 20 entries:\n",
       "  \"avg_price\"         => 25.302\n",
       "  \"wind_curtailment\"  => 2.90429e-6\n",
       "  \"price\"             => [36.3469, 29.4818, 32.286, 37.2189, 15.8767, 35.8254, …\n",
       "  \"gas_gw\"            => -0.0\n",
       "  \"profit\"            => 1-dimensional DenseAxisArray{Float64,1,...} with index…\n",
       "  \"solar_curtailment\" => 1.0\n",
       "  \"status\"            => \"OPTIMAL\"\n",
       "  \"u1\"                => [1.0 1.0 … 1.0 1.0; 1.0 1.0 … 1.0 1.0; … ; 1.0 1.0 … 1…\n",
       "  \"quantity\"          => [9.46003 7.5 … 10.9352 -0.0; 4.0713 7.5 … 8.83915 0.0;…\n",
       "  \"solar_gw\"          => 0.0\n",
       "  \"imports\"           => [8.46177, 7.73344, 8.41005, 6.84681, 5.10787, 7.75198,…\n",
       "  \"demand\"            => [38.4206, 28.1439, 27.3091, 29.8925, 23.4302, 25.5824,…\n",
       "  \"shadow\"            => [26.3469 10.556 … 51.3469 51.3469; 19.4818 3.6909 … 44…\n",
       "  \"u2\"                => [1.0 1.0 … 1.0 1.0; 1.0 1.0 … 1.0 1.0; … ; 1.0 1.0 … 1…\n",
       "  \"u3\"                => 1-dimensional DenseAxisArray{Float64,1,...} with index…\n",
       "  \"subsidy_cost\"      => 1463.6\n",
       "  \"emissions\"         => 19.5262\n",
       "  \"cons_price\"        => 25.302\n",
       "  \"needed_charge\"     => 6.09982\n",
       "  \"wind_gw\"           => 34.4317"
      ]
     },
     "metadata": {},
     "output_type": "display_data"
    }
   ],
   "source": [
    "results = clear_market_foc(dfclust, tech, ng_price=3.5, subsidy=15.0, renewable_charge=0.00)"
   ]
  },
  {
   "cell_type": "code",
   "execution_count": 73,
   "metadata": {},
   "outputs": [
    {
     "data": {
      "text/plain": [
       "1463.6000830418125"
      ]
     },
     "metadata": {},
     "output_type": "display_data"
    }
   ],
   "source": [
    "results[\"subsidy_cost\"]"
   ]
  },
  {
   "cell_type": "code",
   "execution_count": null,
   "metadata": {},
   "outputs": [],
   "source": [
    "results_nosubsidy = clear_market_foc(dfclust, tech, ng_price=3.5)"
   ]
  },
  {
   "cell_type": "code",
   "execution_count": null,
   "metadata": {},
   "outputs": [],
   "source": [
    "# Compare the two prices\n",
    "histogram(results[\"price\"], alpha=0.2, label=\"Subsidy\")\n",
    "histogram!(results_nosubsidy[\"price\"], alpha=0.2, label=\"No Subsidy\")"
   ]
  },
  {
   "cell_type": "markdown",
   "metadata": {},
   "source": [
    "## Computing the renewable charge\n",
    "\n",
    "We would like to add a constraint that states that the subsidies given to firms (solar and wind) need to equal the payments made by consumers with the renewable charges:\n",
    "```\n",
    "    # Subsidy charge \n",
    "    @constraint(model, \n",
    "        sum(data.weights[t] * sum(subsidy * quantity[t,i] for i=6:7) for t=1:T) == renewable_charge * sum(data.weights[t] * demand[t] for t=1:T));\n",
    "```\n",
    "\n",
    "One computational issue is that this is what is called a non-linear equation (`demand` and `renewable_charge` multiply each other, making it harder to compute).\n",
    "\n",
    "It is best to proceed with a search approach for the renewable charge. We will code it with a simple loop here (akin to the visual search we saw last week for entry)."
   ]
  },
  {
   "cell_type": "markdown",
   "metadata": {},
   "source": [
    "We get intuition first without making it a function."
   ]
  },
  {
   "cell_type": "code",
   "execution_count": null,
   "metadata": {},
   "outputs": [],
   "source": [
    "let\n",
    "    current_diff = 1.0;\n",
    "    guess = 5.0;\n",
    "    while (current_diff > 1e-2)\n",
    "        res = clear_market_foc(dfclust, tech, renewable_charge=guess, subsidy=15.0);\n",
    "        newguess = res[\"needed_charge\"];\n",
    "        current_diff = (guess-newguess).^2;\n",
    "        guess = newguess;\n",
    "    end\n",
    "    guess\n",
    "end"
   ]
  },
  {
   "cell_type": "markdown",
   "metadata": {},
   "source": [
    "The result is telling us that the renewable charge should be about $8.643 per MWh consumed, we have found an equilibrium."
   ]
  },
  {
   "cell_type": "markdown",
   "metadata": {},
   "source": [
    "### Making it into a function\n",
    "\n",
    "We create a function that will do the loop and return the optimal solution."
   ]
  },
  {
   "cell_type": "code",
   "execution_count": null,
   "metadata": {},
   "outputs": [],
   "source": [
    "function clear_market_equilibrium(data::DataFrame, tech::DataFrame; \n",
    "    ng_price=3.5, tax=0.0, subsidy=0.0, renewable_charge=0.0)\n",
    "\n",
    "    current_diff = 1.0;\n",
    "    guess = subsidy/3.0;\n",
    "    while (current_diff > 1e-2)\n",
    "        res = clear_market_foc(data, tech,\n",
    "                ng_price=ng_price, tax=tax, subsidy=subsidy, renewable_charge=guess);\n",
    "        if (res[\"status\"]==\"OPTIMAL\")\n",
    "            newguess = res[\"needed_charge\"];\n",
    "        else\n",
    "            print(string(\"Model is \",res[\"status\"],\" at \",guess,\"\\n\"))\n",
    "            newguess = guess+1.0;\n",
    "        end\n",
    "        current_diff = (guess-newguess).^2;\n",
    "        guess = newguess;\n",
    "    end\n",
    "\n",
    "    # we solve at the equilibrium to return results\n",
    "    res = clear_market_foc(data, tech,\n",
    "            ng_price=ng_price, tax=tax, subsidy=subsidy, renewable_charge=guess);\n",
    "\n",
    "    return res\n",
    "\n",
    "end"
   ]
  },
  {
   "cell_type": "code",
   "execution_count": null,
   "metadata": {},
   "outputs": [],
   "source": [
    "res_eq = clear_market_equilibrium(dfclust,tech,subsidy=15.0,ng_price=3.5,renewable_charge=10.0)"
   ]
  },
  {
   "cell_type": "markdown",
   "metadata": {},
   "source": [
    "A subsidy of $15/MWh gets about 40 GW of installed new wind and average prices around $24/MWh.\n",
    "\n",
    "What is an equivalent tax? How does it impact emissions and prices?"
   ]
  },
  {
   "cell_type": "code",
   "execution_count": null,
   "metadata": {},
   "outputs": [],
   "source": [
    "results_tax = clear_market_foc(dfclust, tech, ng_price=3.5, tax=230.0)"
   ]
  },
  {
   "cell_type": "markdown",
   "metadata": {},
   "source": [
    "## Follow-up questions\n",
    "\n",
    "1. What are the costs of reaching a certain emissions target with subsidies vs. with taxes? You can solve this by using another loop that targets the right level of tax/subsidy.\n",
    "   \n",
    "2. What about adding three sectors (residential, commercial, industrial)? How do results change depending on which sector pays for the subsidies?\n",
    "   \n",
    "3. How could you add a Renewable Portfolio Standard or a Clean Energy Standard? Remember you need to search for the parameter that leads to a certain renewable share (RPS) or emissions rate (CES). This is the target in the loop."
   ]
  }
 ],
 "metadata": {
  "kernelspec": {
   "display_name": "Julia 1.10.4",
   "language": "julia",
   "name": "julia-1.10"
  },
  "language_info": {
   "file_extension": ".jl",
   "mimetype": "application/julia",
   "name": "julia",
   "version": "1.10.4"
  }
 },
 "nbformat": 4,
 "nbformat_minor": 2
}
